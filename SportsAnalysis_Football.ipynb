{
  "nbformat": 4,
  "nbformat_minor": 0,
  "metadata": {
    "colab": {
      "name": "SportsAnalysis-Football.ipynb",
      "provenance": []
    },
    "kernelspec": {
      "name": "python3",
      "display_name": "Python 3"
    },
    "language_info": {
      "name": "python"
    }
  },
  "cells": [
    {
      "cell_type": "code",
      "metadata": {
        "id": "86RpqqQ0-eml"
      },
      "source": [
        "import pandas as pd\n",
        "import matplotlib.pyplot as plt\n",
        "import matplotlib\n",
        "import seaborn as sns\n",
        "import warnings\n",
        "%matplotlib notebook\n",
        "\n",
        "messi=pd.read_csv(\"https://raw.githubusercontent.com/MananChhabra/data-files-for-football-sport-analysis/master/MessiFinal.csv\",skiprows=1)\n",
        "\n",
        "messi1=messi[['Season','League Goals']]\n",
        "messi1.drop([16],inplace=True)\n",
        "\n",
        "messi2=messi[['Season','League Apps']]\n",
        "messi2.drop([16],inplace=True)\n",
        "\n",
        "ronaldo=pd.read_csv('https://raw.githubusercontent.com/chirag3110/extract/master/ronaldo.csv')\n",
        "\n",
        "ronaldo1=ronaldo[['Season','League Goals']]\n",
        "ronaldo1.drop([16],inplace=True)\n",
        "\n",
        "ronaldo2=ronaldo[['Season','League Apps']]\n",
        "ronaldo2.drop([16],inplace=True)\n",
        "\n",
        "mrgoals=pd.merge(messi1,ronaldo1, on='Season')\n",
        "mrgoals.rename(columns={'League Goals_x':'MessiGoals','League Goals_y':'RonaldoGoals'},inplace=True)\n",
        "ax=mrgoals.plot.bar(x=messi1['Season'],color=['blue','red'],figsize=(7.5,3.75),alpha=0.7);\n",
        "\n",
        "mrapps=pd.merge(messi2,ronaldo2, on='Season')\n",
        "mrapps.rename(columns={'League Apps_x':'MessiApps','League Apps_y':'RonaldoApps'},inplace=True)\n",
        "mrapps.plot(ax=ax,color=['blue','red'],alpha=0.7);\n",
        "plt.xticks(rotation=17)\n",
        "plt.ylabel('Goals')\n",
        "plt.xlabel('Season')\n",
        "plt.title('Change over the last 17 years(2004-till date) in number of goals scored by two of the \\n greatest footballers Lionel Messi and Cristiano Ronaldo')\n"
      ],
      "execution_count": null,
      "outputs": []
    }
  ]
}